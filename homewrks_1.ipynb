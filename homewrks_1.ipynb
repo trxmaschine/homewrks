{
  "nbformat": 4,
  "nbformat_minor": 0,
  "metadata": {
    "colab": {
      "provenance": [],
      "collapsed_sections": [
        "0gkJhjY3kpsC",
        "j2IAlZwkk5hL",
        "jJ4jtHJklyQx"
      ],
      "toc_visible": true,
      "authorship_tag": "ABX9TyNQ/bYFIktqeIC2JKNP3gKo",
      "include_colab_link": true
    },
    "kernelspec": {
      "name": "python3",
      "display_name": "Python 3"
    },
    "language_info": {
      "name": "python"
    }
  },
  "cells": [
    {
      "cell_type": "markdown",
      "metadata": {
        "id": "view-in-github",
        "colab_type": "text"
      },
      "source": [
        "<a href=\"https://colab.research.google.com/github/trxmaschine/homewrks/blob/lvl-2/homewrks_1.ipynb\" target=\"_parent\"><img src=\"https://colab.research.google.com/assets/colab-badge.svg\" alt=\"Open In Colab\"/></a>"
      ]
    },
    {
      "cell_type": "markdown",
      "source": [
        "##1_class_chocolate"
      ],
      "metadata": {
        "id": "pOimfbv7HFza"
      }
    },
    {
      "cell_type": "code",
      "source": [
        "class Chocolate:\n",
        "  def __init__(self, name:str,price: float, addition: str, has_nuts:bool, count_nuts:int): #class inicialization\n",
        "      self.name = name\n",
        "      self.price = price\n",
        "      self.has_nuts = has_nuts\n",
        "      self.count_nuts = count_nuts\n",
        "      self.addiction = addition\n",
        "\n",
        "  def show_my_chocolate(self,addition):\n",
        "      if addition in 'milk':         #если добавка молоко, то:\n",
        "        print('Шоколадный батончик, добавка: {ДОБАВКА}')\n",
        "      else:                          #если не молоко, но str:\n",
        "        print('Обычный шоколадный батончик')\n",
        "\n",
        "  def count_nuts(self):              #считаем кол-во орехов:\n",
        "      print()\n",
        "\n",
        "  def __str__(self): # Method_str_\n",
        "    return f'{CH.name} {CH.price} рублей'"
      ],
      "metadata": {
        "id": "Fmom1XAiHL5a"
      },
      "execution_count": 327,
      "outputs": []
    },
    {
      "cell_type": "code",
      "source": [
        " CH = Chocolate('Шоколадный батончик',-1.12,'milk',True,23)"
      ],
      "metadata": {
        "id": "ZZig_hEDnHOg"
      },
      "execution_count": 328,
      "outputs": []
    },
    {
      "cell_type": "markdown",
      "source": [
        "###2_ValueError"
      ],
      "metadata": {
        "id": "0gkJhjY3kpsC"
      }
    },
    {
      "cell_type": "code",
      "source": [
        "CH.price\n",
        "if price < 0 :\n",
        "  raise ValueError('ОШИБКА! Цена батончика должна быть больше нуля!')\n"
      ],
      "metadata": {
        "colab": {
          "base_uri": "https://localhost:8080/",
          "height": 176
        },
        "id": "EhcMzvo9Hb7f",
        "outputId": "950c717a-02f2-4119-a50a-f40fb5332467"
      },
      "execution_count": 329,
      "outputs": [
        {
          "output_type": "error",
          "ename": "ValueError",
          "evalue": "ОШИБКА! Цена батончика должна быть больше нуля!",
          "traceback": [
            "\u001b[0;31m---------------------------------------------------------------------------\u001b[0m",
            "\u001b[0;31mValueError\u001b[0m                                Traceback (most recent call last)",
            "\u001b[0;32m<ipython-input-329-10f78a31ac82>\u001b[0m in \u001b[0;36m<cell line: 0>\u001b[0;34m()\u001b[0m\n\u001b[1;32m      1\u001b[0m \u001b[0mCH\u001b[0m\u001b[0;34m.\u001b[0m\u001b[0mprice\u001b[0m\u001b[0;34m\u001b[0m\u001b[0;34m\u001b[0m\u001b[0m\n\u001b[1;32m      2\u001b[0m \u001b[0;32mif\u001b[0m \u001b[0mprice\u001b[0m \u001b[0;34m<\u001b[0m \u001b[0;36m0\u001b[0m \u001b[0;34m:\u001b[0m\u001b[0;34m\u001b[0m\u001b[0;34m\u001b[0m\u001b[0m\n\u001b[0;32m----> 3\u001b[0;31m   \u001b[0;32mraise\u001b[0m \u001b[0mValueError\u001b[0m\u001b[0;34m(\u001b[0m\u001b[0;34m'ОШИБКА! Цена батончика должна быть больше нуля!'\u001b[0m\u001b[0;34m)\u001b[0m\u001b[0;34m\u001b[0m\u001b[0;34m\u001b[0m\u001b[0m\n\u001b[0m",
            "\u001b[0;31mValueError\u001b[0m: ОШИБКА! Цена батончика должна быть больше нуля!"
          ]
        }
      ]
    },
    {
      "cell_type": "markdown",
      "source": [
        "###3_Method_show_my_chocolate"
      ],
      "metadata": {
        "id": "j2IAlZwkk5hL"
      }
    },
    {
      "cell_type": "code",
      "source": [
        "CH.show_my_chocolate('milk')"
      ],
      "metadata": {
        "id": "WlCZNKCLHW41"
      },
      "execution_count": null,
      "outputs": []
    },
    {
      "cell_type": "code",
      "source": [
        "CH.show_my_chocolate('None')"
      ],
      "metadata": {
        "id": "Rh1BmQfOcCbO"
      },
      "execution_count": null,
      "outputs": []
    },
    {
      "cell_type": "markdown",
      "source": [
        "###4_Method_Count_nuts\n"
      ],
      "metadata": {
        "id": "jJ4jtHJklyQx"
      }
    },
    {
      "cell_type": "code",
      "source": [
        "CH.count_nuts"
      ],
      "metadata": {
        "id": "dR-xbqNrl3Lc"
      },
      "execution_count": null,
      "outputs": []
    },
    {
      "cell_type": "markdown",
      "source": [
        "###5_Method_str_"
      ],
      "metadata": {
        "id": "_bFTrwNyoECO"
      }
    },
    {
      "cell_type": "code",
      "source": [
        "print(CH)"
      ],
      "metadata": {
        "colab": {
          "base_uri": "https://localhost:8080/"
        },
        "id": "_Thv_sgheQjq",
        "outputId": "d6943621-b119-40d5-f63f-23ada446fcf5"
      },
      "execution_count": 330,
      "outputs": [
        {
          "output_type": "stream",
          "name": "stdout",
          "text": [
            "Шоколадный батончик -1.12 рублей\n"
          ]
        }
      ]
    },
    {
      "cell_type": "markdown",
      "source": [
        "###6_Different_class_of_Chocolate"
      ],
      "metadata": {
        "id": "MvGotmtOwsY5"
      }
    },
    {
      "cell_type": "code",
      "source": [
        "CH_1 = Chocolate('Батончик белого шоколада',95,'Vanilla',False,54)"
      ],
      "metadata": {
        "id": "4T1Do4xUxNlP"
      },
      "execution_count": 337,
      "outputs": []
    },
    {
      "cell_type": "code",
      "source": [
        "CH_1.price"
      ],
      "metadata": {
        "colab": {
          "base_uri": "https://localhost:8080/"
        },
        "id": "7LHnu79nxs9d",
        "outputId": "f4489d65-c7d6-4036-c7df-a016705216c9"
      },
      "execution_count": 338,
      "outputs": [
        {
          "output_type": "execute_result",
          "data": {
            "text/plain": [
              "95"
            ]
          },
          "metadata": {},
          "execution_count": 338
        }
      ]
    },
    {
      "cell_type": "code",
      "source": [
        "CH_1.count_nuts"
      ],
      "metadata": {
        "colab": {
          "base_uri": "https://localhost:8080/"
        },
        "id": "O6Xn4VqCyOgv",
        "outputId": "47c9b911-e26c-41c3-8a11-69aacf561c46"
      },
      "execution_count": 339,
      "outputs": [
        {
          "output_type": "execute_result",
          "data": {
            "text/plain": [
              "54"
            ]
          },
          "metadata": {},
          "execution_count": 339
        }
      ]
    }
  ]
}