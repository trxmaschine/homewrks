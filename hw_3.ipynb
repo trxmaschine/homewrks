https://colab.research.google.com/gist/trxmaschine/f7147385347fbd045bc9ff041fc3a40c/untitled11.ipynb#scrollTo=owcVvuxYA_RO 
