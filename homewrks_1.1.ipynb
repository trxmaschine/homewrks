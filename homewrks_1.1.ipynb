{
  "nbformat": 4,
  "nbformat_minor": 0,
  "metadata": {
    "colab": {
      "provenance": [],
      "collapsed_sections": [
        "0gkJhjY3kpsC"
      ],
      "toc_visible": true,
      "authorship_tag": "ABX9TyOHIWhO+Z7XtYJ661pj83KY",
      "include_colab_link": true
    },
    "kernelspec": {
      "name": "python3",
      "display_name": "Python 3"
    },
    "language_info": {
      "name": "python"
    }
  },
  "cells": [
    {
      "cell_type": "markdown",
      "metadata": {
        "id": "view-in-github",
        "colab_type": "text"
      },
      "source": [
        "<a href=\"https://colab.research.google.com/github/trxmaschine/homewrks/blob/lvl-2/homewrks_1.1.ipynb\" target=\"_parent\"><img src=\"https://colab.research.google.com/assets/colab-badge.svg\" alt=\"Open In Colab\"/></a>"
      ]
    },
    {
      "cell_type": "markdown",
      "source": [
        "##1_class_chocolate"
      ],
      "metadata": {
        "id": "pOimfbv7HFza"
      }
    },
    {
      "cell_type": "code",
      "source": [
        "class Chocolate:\n",
        "  def __init__(self, name:str,price: float, addition: str, has_nuts:bool, count_nuts:int): #class inicialization\n",
        "      self.name = name\n",
        "      self.price = price\n",
        "      self.has_nuts = has_nuts\n",
        "      self.count_nuts = count_nuts\n",
        "      self.addition = addition\n",
        "\n",
        "  def show_my_chocolate(self,addition):\n",
        "      if addition in 'milk':         #если добавка молоко, то:\n",
        "        print('Шоколадный батончик, добавка: {ДОБАВКА}')\n",
        "      else:                          #если не молоко, но str:\n",
        "        print('Обычный шоколадный батончик')\n",
        "\n",
        "  def count_nuts(self):              #считаем кол-во орехов:\n",
        "      print()\n",
        "\n",
        "  def __str__(self): # Method_str_\n",
        "    return f'{CH.name} {CH.price} рублей'"
      ],
      "metadata": {
        "id": "Fmom1XAiHL5a"
      },
      "execution_count": 360,
      "outputs": []
    },
    {
      "cell_type": "code",
      "source": [
        " CH = Chocolate('Шоколадный батончик',-1.12,'milk',True,23)"
      ],
      "metadata": {
        "id": "ZZig_hEDnHOg"
      },
      "execution_count": 357,
      "outputs": []
    },
    {
      "cell_type": "markdown",
      "source": [
        "###2_ValueError"
      ],
      "metadata": {
        "id": "0gkJhjY3kpsC"
      }
    },
    {
      "cell_type": "code",
      "source": [
        "CH.price\n",
        "if price < 0 :\n",
        "  raise ValueError('ОШИБКА! Цена батончика должна быть больше нуля!')\n"
      ],
      "metadata": {
        "colab": {
          "base_uri": "https://localhost:8080/",
          "height": 176
        },
        "id": "EhcMzvo9Hb7f",
        "outputId": "19e2a2a2-4bf4-4c7a-ac3f-0efcda30f6c1"
      },
      "execution_count": 361,
      "outputs": [
        {
          "output_type": "error",
          "ename": "ValueError",
          "evalue": "ОШИБКА! Цена батончика должна быть больше нуля!",
          "traceback": [
            "\u001b[0;31m---------------------------------------------------------------------------\u001b[0m",
            "\u001b[0;31mValueError\u001b[0m                                Traceback (most recent call last)",
            "\u001b[0;32m<ipython-input-361-10f78a31ac82>\u001b[0m in \u001b[0;36m<cell line: 0>\u001b[0;34m()\u001b[0m\n\u001b[1;32m      1\u001b[0m \u001b[0mCH\u001b[0m\u001b[0;34m.\u001b[0m\u001b[0mprice\u001b[0m\u001b[0;34m\u001b[0m\u001b[0;34m\u001b[0m\u001b[0m\n\u001b[1;32m      2\u001b[0m \u001b[0;32mif\u001b[0m \u001b[0mprice\u001b[0m \u001b[0;34m<\u001b[0m \u001b[0;36m0\u001b[0m \u001b[0;34m:\u001b[0m\u001b[0;34m\u001b[0m\u001b[0;34m\u001b[0m\u001b[0m\n\u001b[0;32m----> 3\u001b[0;31m   \u001b[0;32mraise\u001b[0m \u001b[0mValueError\u001b[0m\u001b[0;34m(\u001b[0m\u001b[0;34m'ОШИБКА! Цена батончика должна быть больше нуля!'\u001b[0m\u001b[0;34m)\u001b[0m\u001b[0;34m\u001b[0m\u001b[0;34m\u001b[0m\u001b[0m\n\u001b[0m",
            "\u001b[0;31mValueError\u001b[0m: ОШИБКА! Цена батончика должна быть больше нуля!"
          ]
        }
      ]
    },
    {
      "cell_type": "markdown",
      "source": [
        "###3_Method_show_my_chocolate"
      ],
      "metadata": {
        "id": "j2IAlZwkk5hL"
      }
    },
    {
      "cell_type": "code",
      "source": [
        "CH.show_my_chocolate('milk')"
      ],
      "metadata": {
        "colab": {
          "base_uri": "https://localhost:8080/"
        },
        "id": "WlCZNKCLHW41",
        "outputId": "bb47143e-56f3-4e9c-fea4-d8c9e6c13a60"
      },
      "execution_count": 362,
      "outputs": [
        {
          "output_type": "stream",
          "name": "stdout",
          "text": [
            "Шоколадный батончик, добавка: {ДОБАВКА}\n"
          ]
        }
      ]
    },
    {
      "cell_type": "code",
      "source": [
        "CH.show_my_chocolate('None')"
      ],
      "metadata": {
        "colab": {
          "base_uri": "https://localhost:8080/"
        },
        "id": "Rh1BmQfOcCbO",
        "outputId": "3ecc5dff-50d1-4d7d-c9d6-7e5dd00525c3"
      },
      "execution_count": 363,
      "outputs": [
        {
          "output_type": "stream",
          "name": "stdout",
          "text": [
            "Обычный шоколадный батончик\n"
          ]
        }
      ]
    },
    {
      "cell_type": "markdown",
      "source": [
        "###4_Method_Count_nuts\n"
      ],
      "metadata": {
        "id": "jJ4jtHJklyQx"
      }
    },
    {
      "cell_type": "code",
      "source": [
        "CH.count_nuts"
      ],
      "metadata": {
        "colab": {
          "base_uri": "https://localhost:8080/"
        },
        "id": "dR-xbqNrl3Lc",
        "outputId": "9667bc20-531c-497e-c130-e9a1ee650bc8"
      },
      "execution_count": 364,
      "outputs": [
        {
          "output_type": "execute_result",
          "data": {
            "text/plain": [
              "23"
            ]
          },
          "metadata": {},
          "execution_count": 364
        }
      ]
    },
    {
      "cell_type": "markdown",
      "source": [
        "###5_Method_str_"
      ],
      "metadata": {
        "id": "_bFTrwNyoECO"
      }
    },
    {
      "cell_type": "code",
      "source": [
        "print(CH)"
      ],
      "metadata": {
        "colab": {
          "base_uri": "https://localhost:8080/"
        },
        "id": "_Thv_sgheQjq",
        "outputId": "48d1f563-102a-4c34-8702-3a8212a3be03"
      },
      "execution_count": 365,
      "outputs": [
        {
          "output_type": "stream",
          "name": "stdout",
          "text": [
            "Шоколадный батончик -1.12 рублей\n"
          ]
        }
      ]
    },
    {
      "cell_type": "markdown",
      "source": [
        "###6_Different_class_of_Chocolate"
      ],
      "metadata": {
        "id": "MvGotmtOwsY5"
      }
    },
    {
      "cell_type": "code",
      "source": [
        "CH_1 = Chocolate('Батончик белого шоколада',95,'Vanilla',False,54)"
      ],
      "metadata": {
        "id": "4T1Do4xUxNlP"
      },
      "execution_count": 366,
      "outputs": []
    },
    {
      "cell_type": "code",
      "source": [
        "CH_1.price"
      ],
      "metadata": {
        "colab": {
          "base_uri": "https://localhost:8080/"
        },
        "id": "7LHnu79nxs9d",
        "outputId": "8936d952-82ac-410c-80ae-5c81c6dea085"
      },
      "execution_count": 367,
      "outputs": [
        {
          "output_type": "execute_result",
          "data": {
            "text/plain": [
              "95"
            ]
          },
          "metadata": {},
          "execution_count": 367
        }
      ]
    },
    {
      "cell_type": "code",
      "source": [
        "CH_1.count_nuts"
      ],
      "metadata": {
        "colab": {
          "base_uri": "https://localhost:8080/"
        },
        "id": "O6Xn4VqCyOgv",
        "outputId": "4ee2da53-c761-4703-ffd8-7149ce201289"
      },
      "execution_count": 368,
      "outputs": [
        {
          "output_type": "execute_result",
          "data": {
            "text/plain": [
              "54"
            ]
          },
          "metadata": {},
          "execution_count": 368
        }
      ]
    },
    {
      "cell_type": "code",
      "source": [
        "CH_1.name"
      ],
      "metadata": {
        "colab": {
          "base_uri": "https://localhost:8080/",
          "height": 35
        },
        "id": "0BgC0sdS67Ra",
        "outputId": "b447e24a-f04f-4167-d681-c70e74bbd905"
      },
      "execution_count": 369,
      "outputs": [
        {
          "output_type": "execute_result",
          "data": {
            "text/plain": [
              "'Батончик белого шоколада'"
            ],
            "application/vnd.google.colaboratory.intrinsic+json": {
              "type": "string"
            }
          },
          "metadata": {},
          "execution_count": 369
        }
      ]
    },
    {
      "cell_type": "code",
      "source": [
        "CH_2 = Chocolate('Батончик белого шоколада',0,'Cake',False,45)"
      ],
      "metadata": {
        "id": "XT6sjBJt7iHQ"
      },
      "execution_count": 370,
      "outputs": []
    },
    {
      "cell_type": "code",
      "source": [
        "CH_2.has_nuts"
      ],
      "metadata": {
        "colab": {
          "base_uri": "https://localhost:8080/"
        },
        "id": "acmfevno7sj5",
        "outputId": "fe48e6e2-8d9b-4b89-aaa4-537a1906e00d"
      },
      "execution_count": 371,
      "outputs": [
        {
          "output_type": "execute_result",
          "data": {
            "text/plain": [
              "False"
            ]
          },
          "metadata": {},
          "execution_count": 371
        }
      ]
    },
    {
      "cell_type": "code",
      "source": [
        "CH_2.addition"
      ],
      "metadata": {
        "colab": {
          "base_uri": "https://localhost:8080/",
          "height": 35
        },
        "id": "XR2Eyto27zF3",
        "outputId": "8acda0d3-5136-4642-ac52-270fa88158e6"
      },
      "execution_count": 372,
      "outputs": [
        {
          "output_type": "execute_result",
          "data": {
            "text/plain": [
              "'Cake'"
            ],
            "application/vnd.google.colaboratory.intrinsic+json": {
              "type": "string"
            }
          },
          "metadata": {},
          "execution_count": 372
        }
      ]
    }
  ]
}