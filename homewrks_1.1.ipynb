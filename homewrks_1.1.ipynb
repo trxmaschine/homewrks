{
  "nbformat": 4,
  "nbformat_minor": 0,
  "metadata": {
    "colab": {
      "provenance": [],
      "collapsed_sections": [
        "0gkJhjY3kpsC"
      ],
      "authorship_tag": "ABX9TyOjavEGO5MUHoZFM3vFRXW8"
    },
    "kernelspec": {
      "name": "python3",
      "display_name": "Python 3"
    },
    "language_info": {
      "name": "python"
    }
  },
  "cells": [
    {
      "cell_type": "markdown",
      "source": [
        "##1_class_chocolate"
      ],
      "metadata": {
        "id": "pOimfbv7HFza"
      }
    },
    {
      "cell_type": "code",
      "source": [
        "class Chocolate:\n",
        "  def __init__(self, name:str,price: float, addition: str, has_nuts:bool, count_nuts:int): #class inicialization\n",
        "      self.name = name\n",
        "      self.price = price\n",
        "      self.has_nuts = has_nuts\n",
        "      self.count_nuts = count_nuts\n",
        "      self.addition = addition\n",
        "      if price < 0 :\n",
        "          raise ValueError('ОШИБКА! Цена батончика должна быть больше нуля!')\n",
        "\n",
        "  def show_my_chocolate(self,addition):\n",
        "      if addition in 'milk':         #если добавка молоко, то:\n",
        "        print('Шоколадный батончик, добавка: {ДОБАВКА}')\n",
        "      else:                          #если не молоко, но str:\n",
        "        print('Обычный шоколадный батончик')\n",
        "\n",
        "  def count_nuts(self):              #считаем кол-во орехов:\n",
        "      print()\n",
        "\n",
        "  def __str__(self): # Method_str_\n",
        "    return f'{CH.name} {CH.price} рублей'"
      ],
      "metadata": {
        "id": "Fmom1XAiHL5a"
      },
      "execution_count": 14,
      "outputs": []
    },
    {
      "cell_type": "markdown",
      "source": [
        "###2_ValueError"
      ],
      "metadata": {
        "id": "0gkJhjY3kpsC"
      }
    },
    {
      "cell_type": "code",
      "source": [
        "CH = Chocolate('Шоколадный батончик',1.12,'milk',True,23)"
      ],
      "metadata": {
        "id": "ZZig_hEDnHOg",
        "outputId": "d1299d89-18c5-4c30-a365-75cedfe13d83",
        "colab": {
          "base_uri": "https://localhost:8080/",
          "height": 263
        }
      },
      "execution_count": 16,
      "outputs": [
        {
          "output_type": "error",
          "ename": "ValueError",
          "evalue": "ОШИБКА! Цена батончика должна быть больше нуля!",
          "traceback": [
            "\u001b[0;31m---------------------------------------------------------------------------\u001b[0m",
            "\u001b[0;31mValueError\u001b[0m                                Traceback (most recent call last)",
            "\u001b[0;32m<ipython-input-16-8174b80ab2eb>\u001b[0m in \u001b[0;36m<cell line: 0>\u001b[0;34m()\u001b[0m\n\u001b[0;32m----> 1\u001b[0;31m \u001b[0mCH\u001b[0m \u001b[0;34m=\u001b[0m \u001b[0mChocolate\u001b[0m\u001b[0;34m(\u001b[0m\u001b[0;34m'Шоколадный батончик'\u001b[0m\u001b[0;34m,\u001b[0m\u001b[0;34m-\u001b[0m\u001b[0;36m1.12\u001b[0m\u001b[0;34m,\u001b[0m\u001b[0;34m'milk'\u001b[0m\u001b[0;34m,\u001b[0m\u001b[0;32mTrue\u001b[0m\u001b[0;34m,\u001b[0m\u001b[0;36m23\u001b[0m\u001b[0;34m)\u001b[0m\u001b[0;34m\u001b[0m\u001b[0;34m\u001b[0m\u001b[0m\n\u001b[0m",
            "\u001b[0;32m<ipython-input-14-1a0d64497af1>\u001b[0m in \u001b[0;36m__init__\u001b[0;34m(self, name, price, addition, has_nuts, count_nuts)\u001b[0m\n\u001b[1;32m      7\u001b[0m       \u001b[0mself\u001b[0m\u001b[0;34m.\u001b[0m\u001b[0maddition\u001b[0m \u001b[0;34m=\u001b[0m \u001b[0maddition\u001b[0m\u001b[0;34m\u001b[0m\u001b[0;34m\u001b[0m\u001b[0m\n\u001b[1;32m      8\u001b[0m       \u001b[0;32mif\u001b[0m \u001b[0mprice\u001b[0m \u001b[0;34m<\u001b[0m \u001b[0;36m0\u001b[0m \u001b[0;34m:\u001b[0m\u001b[0;34m\u001b[0m\u001b[0;34m\u001b[0m\u001b[0m\n\u001b[0;32m----> 9\u001b[0;31m           \u001b[0;32mraise\u001b[0m \u001b[0mValueError\u001b[0m\u001b[0;34m(\u001b[0m\u001b[0;34m'ОШИБКА! Цена батончика должна быть больше нуля!'\u001b[0m\u001b[0;34m)\u001b[0m\u001b[0;34m\u001b[0m\u001b[0;34m\u001b[0m\u001b[0m\n\u001b[0m\u001b[1;32m     10\u001b[0m \u001b[0;34m\u001b[0m\u001b[0m\n\u001b[1;32m     11\u001b[0m   \u001b[0;32mdef\u001b[0m \u001b[0mshow_my_chocolate\u001b[0m\u001b[0;34m(\u001b[0m\u001b[0mself\u001b[0m\u001b[0;34m,\u001b[0m\u001b[0maddition\u001b[0m\u001b[0;34m)\u001b[0m\u001b[0;34m:\u001b[0m\u001b[0;34m\u001b[0m\u001b[0;34m\u001b[0m\u001b[0m\n",
            "\u001b[0;31mValueError\u001b[0m: ОШИБКА! Цена батончика должна быть больше нуля!"
          ]
        }
      ]
    },
    {
      "cell_type": "markdown",
      "source": [
        "###3_Method_show_my_chocolate"
      ],
      "metadata": {
        "id": "j2IAlZwkk5hL"
      }
    },
    {
      "cell_type": "code",
      "source": [
        "CH.show_my_chocolate('milk')"
      ],
      "metadata": {
        "id": "WlCZNKCLHW41"
      },
      "execution_count": null,
      "outputs": []
    },
    {
      "cell_type": "code",
      "source": [
        "CH.show_my_chocolate('None')"
      ],
      "metadata": {
        "id": "Rh1BmQfOcCbO"
      },
      "execution_count": null,
      "outputs": []
    },
    {
      "cell_type": "markdown",
      "source": [
        "###4_Method_Count_nuts\n"
      ],
      "metadata": {
        "id": "jJ4jtHJklyQx"
      }
    },
    {
      "cell_type": "code",
      "source": [
        "CH.count_nuts"
      ],
      "metadata": {
        "id": "dR-xbqNrl3Lc"
      },
      "execution_count": null,
      "outputs": []
    },
    {
      "cell_type": "markdown",
      "source": [
        "###5_Method_str_"
      ],
      "metadata": {
        "id": "_bFTrwNyoECO"
      }
    },
    {
      "cell_type": "code",
      "source": [
        "print(CH)"
      ],
      "metadata": {
        "id": "_Thv_sgheQjq"
      },
      "execution_count": null,
      "outputs": []
    },
    {
      "cell_type": "markdown",
      "source": [
        "###6_Different_class_of_Chocolate"
      ],
      "metadata": {
        "id": "MvGotmtOwsY5"
      }
    },
    {
      "cell_type": "code",
      "source": [
        "CH_1 = Chocolate('Батончик белого шоколада',95,'Vanilla',False,54)"
      ],
      "metadata": {
        "id": "4T1Do4xUxNlP"
      },
      "execution_count": 17,
      "outputs": []
    },
    {
      "cell_type": "code",
      "source": [
        "CH_1.price"
      ],
      "metadata": {
        "colab": {
          "base_uri": "https://localhost:8080/"
        },
        "id": "7LHnu79nxs9d",
        "outputId": "0a06c314-e072-46c6-e1fc-9e2384d71e8a"
      },
      "execution_count": 18,
      "outputs": [
        {
          "output_type": "execute_result",
          "data": {
            "text/plain": [
              "95"
            ]
          },
          "metadata": {},
          "execution_count": 18
        }
      ]
    },
    {
      "cell_type": "code",
      "source": [
        "CH_1.count_nuts"
      ],
      "metadata": {
        "colab": {
          "base_uri": "https://localhost:8080/"
        },
        "id": "O6Xn4VqCyOgv",
        "outputId": "1a89bfdc-0733-4dc3-bd70-faaf0b3edfea"
      },
      "execution_count": 19,
      "outputs": [
        {
          "output_type": "execute_result",
          "data": {
            "text/plain": [
              "54"
            ]
          },
          "metadata": {},
          "execution_count": 19
        }
      ]
    },
    {
      "cell_type": "code",
      "source": [
        "CH_1.name"
      ],
      "metadata": {
        "colab": {
          "base_uri": "https://localhost:8080/",
          "height": 35
        },
        "id": "0BgC0sdS67Ra",
        "outputId": "1b8e0a4c-40b5-41b3-ccf9-7dbbe6209385"
      },
      "execution_count": 20,
      "outputs": [
        {
          "output_type": "execute_result",
          "data": {
            "text/plain": [
              "'Батончик белого шоколада'"
            ],
            "application/vnd.google.colaboratory.intrinsic+json": {
              "type": "string"
            }
          },
          "metadata": {},
          "execution_count": 20
        }
      ]
    },
    {
      "cell_type": "code",
      "source": [
        "CH_2 = Chocolate('Батончик белого шоколада',0,'Cake',False,45)"
      ],
      "metadata": {
        "id": "XT6sjBJt7iHQ"
      },
      "execution_count": 21,
      "outputs": []
    },
    {
      "cell_type": "code",
      "source": [
        "CH_2.has_nuts"
      ],
      "metadata": {
        "colab": {
          "base_uri": "https://localhost:8080/"
        },
        "id": "acmfevno7sj5",
        "outputId": "01866bb0-dd28-49f4-c2b4-4b97df015632"
      },
      "execution_count": 22,
      "outputs": [
        {
          "output_type": "execute_result",
          "data": {
            "text/plain": [
              "False"
            ]
          },
          "metadata": {},
          "execution_count": 22
        }
      ]
    },
    {
      "cell_type": "code",
      "source": [
        "CH_2.addition"
      ],
      "metadata": {
        "colab": {
          "base_uri": "https://localhost:8080/",
          "height": 35
        },
        "id": "XR2Eyto27zF3",
        "outputId": "458dac76-fcfd-42e6-bec4-ab7c5d876bbf"
      },
      "execution_count": 23,
      "outputs": [
        {
          "output_type": "execute_result",
          "data": {
            "text/plain": [
              "'Cake'"
            ],
            "application/vnd.google.colaboratory.intrinsic+json": {
              "type": "string"
            }
          },
          "metadata": {},
          "execution_count": 23
        }
      ]
    }
  ]
}